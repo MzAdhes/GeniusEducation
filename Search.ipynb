{
 "cells": [
  {
   "cell_type": "code",
   "execution_count": 1,
   "id": "a9bbc967",
   "metadata": {},
   "outputs": [
    {
     "name": "stdout",
     "output_type": "stream",
     "text": [
      "\n"
     ]
    },
    {
     "ename": "NameError",
     "evalue": "name 'kontak' is not defined",
     "output_type": "error",
     "traceback": [
      "\u001b[1;31m---------------------------------------------------------------------------\u001b[0m",
      "\u001b[1;31mNameError\u001b[0m                                 Traceback (most recent call last)",
      "Input \u001b[1;32mIn [1]\u001b[0m, in \u001b[0;36m<cell line: 44>\u001b[1;34m()\u001b[0m\n\u001b[0;32m     41\u001b[0m         \u001b[38;5;28;01melse\u001b[39;00m:\n\u001b[0;32m     42\u001b[0m             \u001b[38;5;28mprint\u001b[39m(\u001b[38;5;124m'\u001b[39m\u001b[38;5;124mTidak dapat mencari diluar kategori tersebut\u001b[39m\u001b[38;5;124m'\u001b[39m)\n\u001b[1;32m---> 44\u001b[0m \u001b[43mcari_kontak\u001b[49m\u001b[43m(\u001b[49m\u001b[43m)\u001b[49m\n",
      "Input \u001b[1;32mIn [1]\u001b[0m, in \u001b[0;36mcari_kontak\u001b[1;34m()\u001b[0m\n\u001b[0;32m      1\u001b[0m \u001b[38;5;28;01mdef\u001b[39;00m \u001b[38;5;21mcari_kontak\u001b[39m():\n\u001b[0;32m      2\u001b[0m     \u001b[38;5;28mprint\u001b[39m(\u001b[38;5;124m'\u001b[39m\u001b[38;5;124m'\u001b[39m)\n\u001b[1;32m----> 3\u001b[0m     \u001b[38;5;28;01mif\u001b[39;00m(\u001b[38;5;28mlen\u001b[39m(\u001b[43mkontak\u001b[49m)\u001b[38;5;241m==\u001b[39m\u001b[38;5;241m0\u001b[39m):\n\u001b[0;32m      4\u001b[0m         \u001b[38;5;28mprint\u001b[39m(\u001b[38;5;124m'\u001b[39m\u001b[38;5;124mKontak masih kosong, silahkan menambahkan kontak!\u001b[39m\u001b[38;5;124m'\u001b[39m)\n\u001b[0;32m      5\u001b[0m         \u001b[38;5;28mprint\u001b[39m(\u001b[38;5;124m'\u001b[39m\u001b[38;5;124m'\u001b[39m)\n",
      "\u001b[1;31mNameError\u001b[0m: name 'kontak' is not defined"
     ]
    }
   ],
   "source": [
    "def cari_kontak():\n",
    "    print('')\n",
    "    if(len(kontak)==0):\n",
    "        print('Kontak masih kosong, silahkan menambahkan kontak!')\n",
    "        print('')\n",
    "    else:\n",
    "        found_kontak = []\n",
    "        cari = input('Mencari berdasarkan apa? (nama/nomor): ')\n",
    "        if(cari.lower() == 'nama'):\n",
    "            nama = input('Masukkan nama kontak: ')\n",
    "            for i in kontak:\n",
    "                if(i.nama.lower() == nama.lower()):\n",
    "                    found_kontak.append(i)\n",
    "            if(len(found_kontak)==0):\n",
    "                print('Tidak ditemukan kontak')\n",
    "            else:\n",
    "                print('Berikut hasil kontak berdasarkan nama: ')\n",
    "                print('')\n",
    "                print('|No.\\t|Nama\\t\\t|Nomor ponsel\\t|')\n",
    "                i=1\n",
    "                for j in found_kontak:\n",
    "                    print(f'|{i}).\\t|{j.nama}\\t\\t|{j.nomor}\\t|')\n",
    "                    i+=1\n",
    "                print('')\n",
    "        elif(cari.lower()=='nomor'):\n",
    "            nomor = input('Masukkan Nomor Kontak: ')\n",
    "            for i in range(0,len(kontak)):\n",
    "                if(kontak[i].nomor==int(nomor)):\n",
    "                    found_kontak.append(kontak[i])\n",
    "            if(len(found_kontak)==0):\n",
    "                print('Tidak ditemukan kontak')\n",
    "            else:\n",
    "                print('Berikut hasil kontak berdasarkan nomor: ')\n",
    "                print('')\n",
    "                print('|No.\\t|Nama\\t\\t|Nomor ponsel\\t|')\n",
    "                i=1\n",
    "                for j in found_kontak:\n",
    "                    print(f'|{i}).\\t|{j.nama}\\t\\t|{j.nomor}\\t|')\n",
    "                    i+=1\n",
    "                print('')\n",
    "        else:\n",
    "            print('Tidak dapat mencari diluar kategori tersebut')\n",
    "\n",
    "cari_kontak()"
   ]
  }
 ],
 "metadata": {
  "kernelspec": {
   "display_name": "Python 3 (ipykernel)",
   "language": "python",
   "name": "python3"
  },
  "language_info": {
   "codemirror_mode": {
    "name": "ipython",
    "version": 3
   },
   "file_extension": ".py",
   "mimetype": "text/x-python",
   "name": "python",
   "nbconvert_exporter": "python",
   "pygments_lexer": "ipython3",
   "version": "3.9.12"
  }
 },
 "nbformat": 4,
 "nbformat_minor": 5
}
