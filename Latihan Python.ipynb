{
 "cells": [
  {
   "cell_type": "markdown",
   "id": "4290659f",
   "metadata": {},
   "source": [
    "# 1. Membuat 2 fungsi def"
   ]
  },
  {
   "cell_type": "code",
   "execution_count": 3,
   "id": "1a78a996",
   "metadata": {},
   "outputs": [
    {
     "name": "stdout",
     "output_type": "stream",
     "text": [
      "Perkenalkan nama saya...., salam kenal\n"
     ]
    }
   ],
   "source": [
    "def salam_sapa():\n",
    "    print('Perkenalkan nama saya...., salam kenal')\n",
    "    \n",
    "salam_sapa()"
   ]
  },
  {
   "cell_type": "code",
   "execution_count": 5,
   "id": "82c7eeec",
   "metadata": {},
   "outputs": [
    {
     "name": "stdout",
     "output_type": "stream",
     "text": [
      "Luas segitiga adalah:  17.5\n"
     ]
    }
   ],
   "source": [
    "def luas_segitiga():\n",
    "    alas = 5\n",
    "    tinggi = 7\n",
    "    luas = (alas*tinggi)/2\n",
    "    print('Luas segitiga adalah: ',luas)\n",
    "luas_segitiga()"
   ]
  },
  {
   "cell_type": "markdown",
   "id": "6434f51f",
   "metadata": {},
   "source": [
    "# 2. Mencoba perintah import sederhana"
   ]
  },
  {
   "cell_type": "code",
   "execution_count": 6,
   "id": "d583c02e",
   "metadata": {},
   "outputs": [],
   "source": [
    "import csv\n",
    "import pandas as pd\n",
    "import numpy as np"
   ]
  },
  {
   "cell_type": "markdown",
   "id": "5f8fa922",
   "metadata": {},
   "source": [
    "# 3. Keliling lingkaran"
   ]
  },
  {
   "cell_type": "code",
   "execution_count": 7,
   "id": "9337d5c9",
   "metadata": {},
   "outputs": [
    {
     "name": "stdout",
     "output_type": "stream",
     "text": [
      "Lingkaran dengan jari-jari 14 memiliki keliling 87.92\n"
     ]
    }
   ],
   "source": [
    "def keliling_lingkaran(radius):\n",
    "    keliling=2*3.14*radius\n",
    "    return keliling\n",
    "r=14\n",
    "kel=keliling_lingkaran(r)\n",
    "print('Lingkaran dengan jari-jari {} memiliki keliling {}'.format(r,kel))"
   ]
  },
  {
   "cell_type": "markdown",
   "id": "f132b08f",
   "metadata": {},
   "source": [
    "# 4. Mencoba angka yang dimasukkan ganjil atau genap"
   ]
  },
  {
   "cell_type": "code",
   "execution_count": 8,
   "id": "dbd17f41",
   "metadata": {},
   "outputs": [
    {
     "name": "stdout",
     "output_type": "stream",
     "text": [
      "Masukkan nilai= 14\n",
      "Hasilnya adalah 16\n"
     ]
    }
   ],
   "source": [
    "def ceknilai(nilai):\n",
    "    if nilai %2 == 0:\n",
    "        nilai +=2\n",
    "    else:\n",
    "        nilai *=2\n",
    "        \n",
    "    return nilai\n",
    "angka = input('Masukkan nilai= ')\n",
    "hasil = ceknilai(int(angka))\n",
    "\n",
    "print('Hasilnya adalah {}'.format(hasil))"
   ]
  }
 ],
 "metadata": {
  "kernelspec": {
   "display_name": "Python 3 (ipykernel)",
   "language": "python",
   "name": "python3"
  },
  "language_info": {
   "codemirror_mode": {
    "name": "ipython",
    "version": 3
   },
   "file_extension": ".py",
   "mimetype": "text/x-python",
   "name": "python",
   "nbconvert_exporter": "python",
   "pygments_lexer": "ipython3",
   "version": "3.9.12"
  }
 },
 "nbformat": 4,
 "nbformat_minor": 5
}
