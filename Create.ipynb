{
 "cells": [
  {
   "cell_type": "code",
   "execution_count": 3,
   "id": "0ef5985f",
   "metadata": {},
   "outputs": [
    {
     "name": "stdout",
     "output_type": "stream",
     "text": [
      "\n",
      "Masukkan banyak kontak: 1\n",
      "Masukkan kontak ke- 1\n",
      "Nama\t: W\n",
      "Nomor\t: 1\n"
     ]
    },
    {
     "ename": "NameError",
     "evalue": "name 'Kontak' is not defined",
     "output_type": "error",
     "traceback": [
      "\u001b[1;31m---------------------------------------------------------------------------\u001b[0m",
      "\u001b[1;31mNameError\u001b[0m                                 Traceback (most recent call last)",
      "Input \u001b[1;32mIn [3]\u001b[0m, in \u001b[0;36m<cell line: 18>\u001b[1;34m()\u001b[0m\n\u001b[0;32m     15\u001b[0m         \u001b[38;5;28mprint\u001b[39m(\u001b[38;5;124m'\u001b[39m\u001b[38;5;124m'\u001b[39m)\n\u001b[0;32m     16\u001b[0m     \u001b[38;5;28mprint\u001b[39m(\u001b[38;5;124m'\u001b[39m\u001b[38;5;124mKontak berhasil ditambahkan!\u001b[39m\u001b[38;5;130;01m\\n\u001b[39;00m\u001b[38;5;124m'\u001b[39m)\n\u001b[1;32m---> 18\u001b[0m \u001b[43mtambah_kontak\u001b[49m\u001b[43m(\u001b[49m\u001b[43m)\u001b[49m\n",
      "Input \u001b[1;32mIn [3]\u001b[0m, in \u001b[0;36mtambah_kontak\u001b[1;34m()\u001b[0m\n\u001b[0;32m     11\u001b[0m namaKontak \u001b[38;5;241m=\u001b[39m \u001b[38;5;28minput\u001b[39m(\u001b[38;5;124m'\u001b[39m\u001b[38;5;124mNama\u001b[39m\u001b[38;5;130;01m\\t\u001b[39;00m\u001b[38;5;124m: \u001b[39m\u001b[38;5;124m'\u001b[39m)\n\u001b[0;32m     12\u001b[0m nomorKontak \u001b[38;5;241m=\u001b[39m \u001b[38;5;28mint\u001b[39m(\u001b[38;5;28minput\u001b[39m(\u001b[38;5;124m'\u001b[39m\u001b[38;5;124mNomor\u001b[39m\u001b[38;5;130;01m\\t\u001b[39;00m\u001b[38;5;124m: \u001b[39m\u001b[38;5;124m'\u001b[39m))\n\u001b[1;32m---> 13\u001b[0m kontakBaru \u001b[38;5;241m=\u001b[39m \u001b[43mKontak\u001b[49m(namaKontak, nomorKontak)\n\u001b[0;32m     14\u001b[0m kontak\u001b[38;5;241m.\u001b[39mappend(kontakBaru)\n\u001b[0;32m     15\u001b[0m \u001b[38;5;28mprint\u001b[39m(\u001b[38;5;124m'\u001b[39m\u001b[38;5;124m'\u001b[39m)\n",
      "\u001b[1;31mNameError\u001b[0m: name 'Kontak' is not defined"
     ]
    }
   ],
   "source": [
    "def tambah_kontak():\n",
    "    print('')\n",
    "    banyakKontak = int(input('Masukkan banyak kontak: '))\n",
    "    for i in range (banyakKontak):\n",
    "        print('Masukkan kontak ke-',i+1)\n",
    "        namaKontak = input('Nama\\t: ')\n",
    "        nomorKontak = int(input('Nomor\\t: '))\n",
    "        kontakBaru = Kontak(namaKontak, nomorKontak)\n",
    "        kontak.append(kontakBaru)\n",
    "        print('')\n",
    "    print('Kontak berhasil ditambahkan!\\n')\n",
    "    \n",
    "tambah_kontak()"
   ]
  },
  {
   "cell_type": "code",
   "execution_count": null,
   "id": "54165ee9",
   "metadata": {},
   "outputs": [],
   "source": []
  }
 ],
 "metadata": {
  "kernelspec": {
   "display_name": "Python 3 (ipykernel)",
   "language": "python",
   "name": "python3"
  },
  "language_info": {
   "codemirror_mode": {
    "name": "ipython",
    "version": 3
   },
   "file_extension": ".py",
   "mimetype": "text/x-python",
   "name": "python",
   "nbconvert_exporter": "python",
   "pygments_lexer": "ipython3",
   "version": "3.9.12"
  }
 },
 "nbformat": 4,
 "nbformat_minor": 5
}
